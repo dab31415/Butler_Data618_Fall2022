{
 "cells": [
  {
   "cell_type": "markdown",
   "id": "1cedc9eb",
   "metadata": {},
   "source": [
    "# CUNY MSDS DATA618 - Quantative Finance\n",
    "\n",
    "## Week 2 \n",
    "\n",
    "### Description\n",
    "\n",
    "1. Read the attached article by Villalta and Whitwell\n",
    "\n",
    "2. Download the U.S. GDP Growth Rate 1961 - 2022 dataset from (https://www.macrotrends.net/countries/USA/united-states/gdp-growth-rate)\n",
    "\n",
    "3. Download the Federal Funds Effective Rate dataset from (https://fred.stlouisfed.org/series/FEDFUNDS)\n",
    "\n",
    "4. Determine the degree of correlation (or negative correlation) between these two data sets (hints on Correlation of Two Variables in a Time Series in Python - https://stackoverflow.com/questions/4809577/correlation-of-two-variables-in-a-time-series-in-python) [N.b.: Use of Python for this analysis is recommended but not required]\n",
    "\n",
    "5. Download the Bureau of Labor Statistics Consumer Price Index Dataset from https://www.usinflationcalculator.com/inflation/consumer-price-index-and-annual-percent-changes-from-1913-to-2008/ and determine the correlation (or negative correlation) between the annual inflation rate and the Feds Fund Rate.\n",
    "\n",
    "6. Post your conclusions from this analysis regarding Villalt and Whitwell assertions regarding Economically Sensitive Exposures, Interest Rate Sensitive Exposures and the actions of the FED. on the Discussion Board and respond to the postings of others."
   ]
  },
  {
   "cell_type": "code",
   "execution_count": 1,
   "id": "8dc85409",
   "metadata": {},
   "outputs": [],
   "source": [
    "# Import required libraries & packages\n",
    "import pandas as pd\n",
    "import matplotlib.pyplot as plt\n",
    "from matplotlib import pyplot\n"
   ]
  },
  {
   "cell_type": "markdown",
   "id": "11bb5943",
   "metadata": {},
   "source": [
    "Data Sourcing:\n",
    "Load U.S. GDP Growth Rate 1961 - 2022 from CSV file to a DataFrame. Data is in CSV (Comma separated value) format and to access it over the net. This file is saved on network. Top 16 rows are ignored, given these rows are not actually data rows. Index is set to date field to sort rest of the columns based on the date.\n",
    "This data set has 3 columns - 1. Date 2. GDP Growth (%), 3.\tAnnual Change in GDP Growth (%)"
   ]
  },
  {
   "cell_type": "code",
   "execution_count": 2,
   "id": "b9a17241",
   "metadata": {},
   "outputs": [],
   "source": [
    "#gdp_growth = pd.read_csv(\"https://github.com/CUNY-SPS-Data-Science-Program/set-up-yathdeep/blob/main/united-states-gdp-growth-rate.csv\",\n",
    "#                     skiprows = 16,parse_dates = ['date']).set_index('date', inplace = False)\n",
    "#tried to load dataset from the github page but was getting errors so loaded the dataset from local machine.\n",
    "gdp_growth = pd.read_csv(\"united-states-gdp-growth-rate.csv\" ,skiprows = 16,parse_dates = ['date']).set_index('date', inplace = False)\n",
    "\n"
   ]
  },
  {
   "cell_type": "code",
   "execution_count": 3,
   "id": "5b49b447",
   "metadata": {},
   "outputs": [
    {
     "data": {
      "text/html": [
       "<div>\n",
       "<style scoped>\n",
       "    .dataframe tbody tr th:only-of-type {\n",
       "        vertical-align: middle;\n",
       "    }\n",
       "\n",
       "    .dataframe tbody tr th {\n",
       "        vertical-align: top;\n",
       "    }\n",
       "\n",
       "    .dataframe thead th {\n",
       "        text-align: right;\n",
       "    }\n",
       "</style>\n",
       "<table border=\"1\" class=\"dataframe\">\n",
       "  <thead>\n",
       "    <tr style=\"text-align: right;\">\n",
       "      <th></th>\n",
       "      <th>GDP Growth (%)</th>\n",
       "      <th>Annual Change</th>\n",
       "      <th></th>\n",
       "    </tr>\n",
       "    <tr>\n",
       "      <th>date</th>\n",
       "      <th></th>\n",
       "      <th></th>\n",
       "      <th></th>\n",
       "    </tr>\n",
       "  </thead>\n",
       "  <tbody>\n",
       "    <tr>\n",
       "      <th>1961-12-31</th>\n",
       "      <td>2.3</td>\n",
       "      <td>NaN</td>\n",
       "      <td>NaN</td>\n",
       "    </tr>\n",
       "    <tr>\n",
       "      <th>1962-12-31</th>\n",
       "      <td>6.1</td>\n",
       "      <td>3.8</td>\n",
       "      <td>NaN</td>\n",
       "    </tr>\n",
       "    <tr>\n",
       "      <th>1963-12-31</th>\n",
       "      <td>4.4</td>\n",
       "      <td>-1.7</td>\n",
       "      <td>NaN</td>\n",
       "    </tr>\n",
       "    <tr>\n",
       "      <th>1964-12-31</th>\n",
       "      <td>5.8</td>\n",
       "      <td>1.4</td>\n",
       "      <td>NaN</td>\n",
       "    </tr>\n",
       "    <tr>\n",
       "      <th>1965-12-31</th>\n",
       "      <td>6.4</td>\n",
       "      <td>0.6</td>\n",
       "      <td>NaN</td>\n",
       "    </tr>\n",
       "  </tbody>\n",
       "</table>\n",
       "</div>"
      ],
      "text/plain": [
       "             GDP Growth (%)   Annual Change    \n",
       "date                                           \n",
       "1961-12-31              2.3             NaN NaN\n",
       "1962-12-31              6.1             3.8 NaN\n",
       "1963-12-31              4.4            -1.7 NaN\n",
       "1964-12-31              5.8             1.4 NaN\n",
       "1965-12-31              6.4             0.6 NaN"
      ]
     },
     "execution_count": 3,
     "metadata": {},
     "output_type": "execute_result"
    }
   ],
   "source": [
    "gdp_growth.head()"
   ]
  },
  {
   "cell_type": "markdown",
   "id": "ef79b1c4",
   "metadata": {},
   "source": [
    "Let’s create a Time Series plot of GDP Growth (%) and Annual Change. U.S. gdp growth rate for 2020 was -3.40%, a 5.69% decline from 2019. U.S. gdp growth rate for 2019 was 2.29%, a 0.63% decline from 2018. U.S. gdp growth rate for 2018 was 2.92%, a 0.66% increase from 2017."
   ]
  },
  {
   "cell_type": "code",
   "execution_count": 21,
   "id": "79c7e276",
   "metadata": {},
   "outputs": [
    {
     "data": {
      "text/plain": [
       "<AxesSubplot:xlabel='date'>"
      ]
     },
     "execution_count": 21,
     "metadata": {},
     "output_type": "execute_result"
    },
    {
     "data": {
      "image/png": "[encoded data removed]",
      "text/plain": [
       "<Figure size 432x288 with 1 Axes>"
      ]
     },
     "metadata": {
      "needs_background": "light"
     },
     "output_type": "display_data"
    }
   ],
   "source": [
    "gdp_growth.plot()"
   ]
  },
  {
   "cell_type": "markdown",
   "id": "a2b04245",
   "metadata": {},
   "source": [
    "Let’s now see the  Federal Funds Effective Rate data . This data file has data starting from 1951. Since the gdp data available is from 1961 hence we should analyze data from 1961 to 2021 .  \n",
    "\n"
   ]
  },
  {
   "cell_type": "code",
   "execution_count": 22,
   "id": "6e41d33d",
   "metadata": {},
   "outputs": [
    {
     "data": {
      "text/html": [
       "<div>\n",
       "<style scoped>\n",
       "    .dataframe tbody tr th:only-of-type {\n",
       "        vertical-align: middle;\n",
       "    }\n",
       "\n",
       "    .dataframe tbody tr th {\n",
       "        vertical-align: top;\n",
       "    }\n",
       "\n",
       "    .dataframe thead th {\n",
       "        text-align: right;\n",
       "    }\n",
       "</style>\n",
       "<table border=\"1\" class=\"dataframe\">\n",
       "  <thead>\n",
       "    <tr style=\"text-align: right;\">\n",
       "      <th></th>\n",
       "      <th>FEDFUNDS</th>\n",
       "    </tr>\n",
       "    <tr>\n",
       "      <th>DATE</th>\n",
       "      <th></th>\n",
       "    </tr>\n",
       "  </thead>\n",
       "  <tbody>\n",
       "    <tr>\n",
       "      <th>1961-12-31</th>\n",
       "      <td>1.955000</td>\n",
       "    </tr>\n",
       "    <tr>\n",
       "      <th>1962-12-31</th>\n",
       "      <td>2.708333</td>\n",
       "    </tr>\n",
       "    <tr>\n",
       "      <th>1963-12-31</th>\n",
       "      <td>3.178333</td>\n",
       "    </tr>\n",
       "    <tr>\n",
       "      <th>1964-12-31</th>\n",
       "      <td>3.496667</td>\n",
       "    </tr>\n",
       "    <tr>\n",
       "      <th>1965-12-31</th>\n",
       "      <td>4.075000</td>\n",
       "    </tr>\n",
       "  </tbody>\n",
       "</table>\n",
       "</div>"
      ],
      "text/plain": [
       "            FEDFUNDS\n",
       "DATE                \n",
       "1961-12-31  1.955000\n",
       "1962-12-31  2.708333\n",
       "1963-12-31  3.178333\n",
       "1964-12-31  3.496667\n",
       "1965-12-31  4.075000"
      ]
     },
     "execution_count": 22,
     "metadata": {},
     "output_type": "execute_result"
    }
   ],
   "source": [
    "#fed_funds = pd.read_csv('https://github.com/CUNY-SPS-Data-Science-Program/set-up-yathdeep/blob/main/FEDFUNDS.csv')\n",
    "fed_funds = pd.read_csv('FEDFUNDS.csv')\n",
    "fed_funds.head()\n",
    "fed_funds['DATE']= pd.to_datetime(fed_funds['DATE'])\n",
    "fed_funds = (fed_funds[(fed_funds['DATE'] > '1960-12-31') & (fed_funds['DATE'] < '2022-01-01')]).set_index('DATE', inplace = False).resample('1Y', closed = 'right').mean()\n",
    "fed_funds.head()"
   ]
  },
  {
   "cell_type": "markdown",
   "id": "58391121",
   "metadata": {},
   "source": [
    "Let’s plot the data to understand the pattern of how the FF rate have changed. We can observe that the rate was highest around 80's Probably because the inflation was high. we can uncover this by analysing CPI data vs Fed Rates  ."
   ]
  },
  {
   "cell_type": "code",
   "execution_count": 25,
   "id": "9a72564f",
   "metadata": {},
   "outputs": [
    {
     "data": {
      "image/png": "[encoded data removed]",
      "text/plain": [
       "<Figure size 720x432 with 1 Axes>"
      ]
     },
     "metadata": {
      "needs_background": "light"
     },
     "output_type": "display_data"
    }
   ],
   "source": [
    "#fed_funds.plot()\n",
    "plt.figure(figsize=(10,6))\n",
    "plt.plot(fed_funds)\n",
    "plt.grid(axis=\"y\")\n",
    "plt.xlabel(\"Date\")\n",
    "plt.ylabel(\"FF rate(%)\")\n",
    "plt.show()\n"
   ]
  },
  {
   "cell_type": "markdown",
   "id": "36e1bb35",
   "metadata": {},
   "source": [
    "The statistical relationship between two variables is referred to as their correlation.\n",
    "\n",
    "__Positive Correlation__: both variables change in the same direction. The y values tend to increase as the x values increase. This illustrates strong positive correlation, which occurs when large values of one feature correspond to large values of the other, and vice versa.\n",
    "\n",
    "__Neutral Correlation__: No relationship in the change of the variables. This is a form of weak correlation, which occurs when an association between two features is not obvious or is hardly observable.\n",
    "\n",
    "__Negative Correlation__: variables change in opposite directions. The y values tend to decrease as the x values increase. This shows strong negative correlation, which occurs when large values of one feature correspond to small values of the other, and vice versa.\n",
    "\n",
    "Let’s create a new dataframe to calculate ad analyze Degree of correlation. This analysis is to show correlation between GDP Growth(%) and Fed Funds Rate"
   ]
  },
  {
   "cell_type": "code",
   "execution_count": 7,
   "id": "58701b72",
   "metadata": {},
   "outputs": [],
   "source": [
    "selected = pd.DataFrame(zip(gdp_growth[' GDP Growth (%)'],fed_funds['FEDFUNDS']),columns=['GDP Growth(%)','Fed Funds Rate'])"
   ]
  },
  {
   "cell_type": "code",
   "execution_count": 8,
   "id": "b168fa6a",
   "metadata": {},
   "outputs": [
    {
     "data": {
      "text/plain": [
       "<AxesSubplot:>"
      ]
     },
     "execution_count": 8,
     "metadata": {},
     "output_type": "execute_result"
    },
    {
     "data": {
      "image/png": "[encoded data removed]",
      "text/plain": [
       "<Figure size 432x288 with 1 Axes>"
      ]
     },
     "metadata": {
      "needs_background": "light"
     },
     "output_type": "display_data"
    }
   ],
   "source": [
    "selected.plot()"
   ]
  },
  {
   "cell_type": "markdown",
   "id": "f6042d83",
   "metadata": {},
   "source": [
    "This plot shows negative correlation between GDP Growth(%) and Fed Funds Rate. We can see Fed Funds Rate goes up and GDP Growth goes down and vice-versa.\n",
    "We can see both GDP Growth(%) and Fed Funds Rate increased or decreased together also. However, we will analyze it by calculating the Correlation.\n",
    "\n",
    "Lets use Correlation function from pandas package to find Correlation in this dataset."
   ]
  },
  {
   "cell_type": "code",
   "execution_count": 9,
   "id": "a2568e3d",
   "metadata": {},
   "outputs": [
    {
     "data": {
      "text/html": [
       "<div>\n",
       "<style scoped>\n",
       "    .dataframe tbody tr th:only-of-type {\n",
       "        vertical-align: middle;\n",
       "    }\n",
       "\n",
       "    .dataframe tbody tr th {\n",
       "        vertical-align: top;\n",
       "    }\n",
       "\n",
       "    .dataframe thead th {\n",
       "        text-align: right;\n",
       "    }\n",
       "</style>\n",
       "<table border=\"1\" class=\"dataframe\">\n",
       "  <thead>\n",
       "    <tr style=\"text-align: right;\">\n",
       "      <th></th>\n",
       "      <th>GDP Growth(%)</th>\n",
       "      <th>Fed Funds Rate</th>\n",
       "    </tr>\n",
       "  </thead>\n",
       "  <tbody>\n",
       "    <tr>\n",
       "      <th>GDP Growth(%)</th>\n",
       "      <td>1.000000</td>\n",
       "      <td>0.069789</td>\n",
       "    </tr>\n",
       "    <tr>\n",
       "      <th>Fed Funds Rate</th>\n",
       "      <td>0.069789</td>\n",
       "      <td>1.000000</td>\n",
       "    </tr>\n",
       "  </tbody>\n",
       "</table>\n",
       "</div>"
      ],
      "text/plain": [
       "                GDP Growth(%)  Fed Funds Rate\n",
       "GDP Growth(%)        1.000000        0.069789\n",
       "Fed Funds Rate       0.069789        1.000000"
      ]
     },
     "execution_count": 9,
     "metadata": {},
     "output_type": "execute_result"
    }
   ],
   "source": [
    "selected.corr()"
   ]
  },
  {
   "cell_type": "markdown",
   "id": "8a80beda",
   "metadata": {},
   "source": [
    "Positive factional value(0.069789) shows no correlation or a positive but marginal correlation. So most of the time when Fed Funds Rate goes up and GDP Growth goes down and vice-versa.\n",
    "We can see both GDP Growth(%) and Fed Funds Rate increased or decreased together but only in few times."
   ]
  },
  {
   "cell_type": "markdown",
   "id": "b82abc53",
   "metadata": {},
   "source": [
    "### Degree of correlation (Inflation and Fed Funds Rate)\n",
    "Lets download the Bureau of Labor Statistics Consumer Price Index Dataset from the site\n",
    "https://www.usinflationcalculator.com/inflation/consumer-price-index-and-annual-percent-changes-from-1913-to-2008/\n",
    "\n",
    "Lets load the dataset. This dataset is a time series data."
   ]
  },
  {
   "cell_type": "code",
   "execution_count": 13,
   "id": "e6f317d6",
   "metadata": {},
   "outputs": [],
   "source": [
    "#cpi = pd.read_csv(\"https://github.com/CUNY-SPS-Data-Science-Program/set-up-yathdeep/blob/main/cpi.csv\",\n",
    "#                     skiprows = 1)\n",
    "cpi = pd.read_csv(\"cpi.csv\",skiprows = 1)"
   ]
  },
  {
   "cell_type": "code",
   "execution_count": 14,
   "id": "e1788a7a",
   "metadata": {},
   "outputs": [
    {
     "data": {
      "text/plain": [
       "<bound method NDFrame.head of      Year      Jan      Feb      Mar      Apr      May     June     July  \\\n",
       "0    1913    9.800    9.800    9.800    9.800    9.700    9.800    9.900   \n",
       "1    1914   10.000    9.900    9.900    9.800    9.900    9.900   10.000   \n",
       "2    1915   10.100   10.000    9.900   10.000   10.100   10.100   10.100   \n",
       "3    1916   10.400   10.400   10.500   10.600   10.700   10.800   10.800   \n",
       "4    1917   11.700   12.000   12.000   12.600   12.800   13.000   12.800   \n",
       "..    ...      ...      ...      ...      ...      ...      ...      ...   \n",
       "104  2017  242.839  243.603  243.801  244.524  244.733  244.955  244.786   \n",
       "105  2018  247.867  248.991  249.554  250.546  251.588  251.989  252.006   \n",
       "106  2019  251.712  252.776  254.202  255.548  256.092  256.143  256.571   \n",
       "107  2020  257.971  258.678  258.115  256.389  256.394  257.797  259.101   \n",
       "108  2021  261.582  263.014  264.877  267.054  269.195  271.696  273.003   \n",
       "\n",
       "         Aug      Sep      Oct      Nov      Dec      Avg Dec-Dec Avg-Avg  \n",
       "0      9.900   10.000   10.000   10.100   10.000    9.900       ?       ?  \n",
       "1     10.200   10.200   10.100   10.200   10.100   10.000       1       1  \n",
       "2     10.100   10.100   10.200   10.300   10.300   10.100       2       1  \n",
       "3     10.900   11.100   11.300   11.500   11.600   10.900    12.6     7.9  \n",
       "4     13.000   13.300   13.500   13.500   13.700   12.800    18.1    17.4  \n",
       "..       ...      ...      ...      ...      ...      ...     ...     ...  \n",
       "104  245.519  246.819  246.663  246.669  246.524  245.120     2.1     2.1  \n",
       "105  252.146  252.439  252.885  252.038  251.233  251.107     1.9     2.4  \n",
       "106  256.558  256.759  257.346  257.208  256.974  255.657     2.3     1.8  \n",
       "107  259.918  260.280  260.388  260.229  260.474  258.811     1.4     1.2  \n",
       "108  273.567  274.310  276.589  277.948  278.802  270.970       7     4.7  \n",
       "\n",
       "[109 rows x 16 columns]>"
      ]
     },
     "execution_count": 14,
     "metadata": {},
     "output_type": "execute_result"
    }
   ],
   "source": [
    "cpi.head"
   ]
  },
  {
   "cell_type": "code",
   "execution_count": 15,
   "id": "8c850201",
   "metadata": {},
   "outputs": [],
   "source": [
    " #Also filter the data prior to 1961 because Fed Funds Rate is only available after year 1960"
   ]
  },
  {
   "cell_type": "code",
   "execution_count": 16,
   "id": "4491a868",
   "metadata": {},
   "outputs": [
    {
     "name": "stderr",
     "output_type": "stream",
     "text": [
      "C:\\Users\\Deepak\\anaconda3\\lib\\site-packages\\pandas\\core\\generic.py:5303: SettingWithCopyWarning: \n",
      "A value is trying to be set on a copy of a slice from a DataFrame.\n",
      "Try using .loc[row_indexer,col_indexer] = value instead\n",
      "\n",
      "See the caveats in the documentation: https://pandas.pydata.org/pandas-docs/stable/user_guide/indexing.html#returning-a-view-versus-a-copy\n",
      "  self[name] = value\n"
     ]
    },
    {
     "data": {
      "text/html": [
       "<div>\n",
       "<style scoped>\n",
       "    .dataframe tbody tr th:only-of-type {\n",
       "        vertical-align: middle;\n",
       "    }\n",
       "\n",
       "    .dataframe tbody tr th {\n",
       "        vertical-align: top;\n",
       "    }\n",
       "\n",
       "    .dataframe thead th {\n",
       "        text-align: right;\n",
       "    }\n",
       "</style>\n",
       "<table border=\"1\" class=\"dataframe\">\n",
       "  <thead>\n",
       "    <tr style=\"text-align: right;\">\n",
       "      <th></th>\n",
       "      <th>Avg</th>\n",
       "    </tr>\n",
       "    <tr>\n",
       "      <th>Year</th>\n",
       "      <th></th>\n",
       "    </tr>\n",
       "  </thead>\n",
       "  <tbody>\n",
       "    <tr>\n",
       "      <th>1961-01-01</th>\n",
       "      <td>29.9</td>\n",
       "    </tr>\n",
       "    <tr>\n",
       "      <th>1962-01-01</th>\n",
       "      <td>30.2</td>\n",
       "    </tr>\n",
       "    <tr>\n",
       "      <th>1963-01-01</th>\n",
       "      <td>30.6</td>\n",
       "    </tr>\n",
       "    <tr>\n",
       "      <th>1964-01-01</th>\n",
       "      <td>31.0</td>\n",
       "    </tr>\n",
       "    <tr>\n",
       "      <th>1965-01-01</th>\n",
       "      <td>31.5</td>\n",
       "    </tr>\n",
       "  </tbody>\n",
       "</table>\n",
       "</div>"
      ],
      "text/plain": [
       "             Avg\n",
       "Year            \n",
       "1961-01-01  29.9\n",
       "1962-01-01  30.2\n",
       "1963-01-01  30.6\n",
       "1964-01-01  31.0\n",
       "1965-01-01  31.5"
      ]
     },
     "execution_count": 16,
     "metadata": {},
     "output_type": "execute_result"
    }
   ],
   "source": [
    "cpi_avg=(cpi.iloc[:, [0, 13]])\n",
    "cpi_avg.Year=pd.to_datetime(cpi_avg.Year, format='%Y')\n",
    "cpi_avg = (cpi_avg[(cpi_avg['Year'] > '1960-12-31') & (cpi_avg['Year'] < '2022-01-01')]).set_index('Year', inplace = False)\n",
    "cpi_avg.head()"
   ]
  },
  {
   "cell_type": "markdown",
   "id": "a3a568d0",
   "metadata": {},
   "source": [
    "Lets analyze the trend first. Inflation shows trend of going up as we can see in the plot."
   ]
  },
  {
   "cell_type": "code",
   "execution_count": 17,
   "id": "6a59fac3",
   "metadata": {},
   "outputs": [
    {
     "data": {
      "text/plain": [
       "<AxesSubplot:xlabel='Year'>"
      ]
     },
     "execution_count": 17,
     "metadata": {},
     "output_type": "execute_result"
    },
    {
     "data": {
      "image/png": "[encoded data removed]",
      "text/plain": [
       "<Figure size 432x288 with 1 Axes>"
      ]
     },
     "metadata": {
      "needs_background": "light"
     },
     "output_type": "display_data"
    }
   ],
   "source": [
    "cpi_avg.plot()"
   ]
  },
  {
   "cell_type": "code",
   "execution_count": null,
   "id": "22ceb36b",
   "metadata": {},
   "outputs": [],
   "source": [
    "#The CPI is usually converted to a rate of change since the most common inflation metric is the percent change from one year ago."
   ]
  },
  {
   "cell_type": "markdown",
   "id": "398e9aef",
   "metadata": {},
   "source": [
    "We have create a new dataframe with two columns from two different datasets - Avg column from Labor Statistics Consumer Price Index Dataset and Feds Fund Rate from federal dataset "
   ]
  },
  {
   "cell_type": "code",
   "execution_count": 18,
   "id": "63049954",
   "metadata": {},
   "outputs": [
    {
     "data": {
      "text/html": [
       "<div>\n",
       "<style scoped>\n",
       "    .dataframe tbody tr th:only-of-type {\n",
       "        vertical-align: middle;\n",
       "    }\n",
       "\n",
       "    .dataframe tbody tr th {\n",
       "        vertical-align: top;\n",
       "    }\n",
       "\n",
       "    .dataframe thead th {\n",
       "        text-align: right;\n",
       "    }\n",
       "</style>\n",
       "<table border=\"1\" class=\"dataframe\">\n",
       "  <thead>\n",
       "    <tr style=\"text-align: right;\">\n",
       "      <th></th>\n",
       "      <th>Annual Inflation Rate</th>\n",
       "      <th>Feds Fund Rate</th>\n",
       "    </tr>\n",
       "  </thead>\n",
       "  <tbody>\n",
       "    <tr>\n",
       "      <th>0</th>\n",
       "      <td>29.9</td>\n",
       "      <td>1.955000</td>\n",
       "    </tr>\n",
       "    <tr>\n",
       "      <th>1</th>\n",
       "      <td>30.2</td>\n",
       "      <td>2.708333</td>\n",
       "    </tr>\n",
       "    <tr>\n",
       "      <th>2</th>\n",
       "      <td>30.6</td>\n",
       "      <td>3.178333</td>\n",
       "    </tr>\n",
       "    <tr>\n",
       "      <th>3</th>\n",
       "      <td>31.0</td>\n",
       "      <td>3.496667</td>\n",
       "    </tr>\n",
       "    <tr>\n",
       "      <th>4</th>\n",
       "      <td>31.5</td>\n",
       "      <td>4.075000</td>\n",
       "    </tr>\n",
       "  </tbody>\n",
       "</table>\n",
       "</div>"
      ],
      "text/plain": [
       "   Annual Inflation Rate  Feds Fund Rate\n",
       "0                   29.9        1.955000\n",
       "1                   30.2        2.708333\n",
       "2                   30.6        3.178333\n",
       "3                   31.0        3.496667\n",
       "4                   31.5        4.075000"
      ]
     },
     "execution_count": 18,
     "metadata": {},
     "output_type": "execute_result"
    }
   ],
   "source": [
    "selected=pd.DataFrame(zip(cpi_avg['Avg'],fed_funds['FEDFUNDS']),columns=['Annual Inflation Rate','Feds Fund Rate'])\n",
    "selected.head()"
   ]
  },
  {
   "cell_type": "code",
   "execution_count": 19,
   "id": "09b4d88b",
   "metadata": {},
   "outputs": [
    {
     "data": {
      "text/plain": [
       "<AxesSubplot:>"
      ]
     },
     "execution_count": 19,
     "metadata": {},
     "output_type": "execute_result"
    },
    {
     "data": {
      "image/png": "[encoded data removed]",
      "text/plain": [
       "<Figure size 432x288 with 1 Axes>"
      ]
     },
     "metadata": {
      "needs_background": "light"
     },
     "output_type": "display_data"
    }
   ],
   "source": [
    "selected.plot()"
   ]
  },
  {
   "cell_type": "code",
   "execution_count": 20,
   "id": "2e8052fe",
   "metadata": {},
   "outputs": [
    {
     "data": {
      "text/html": [
       "<div>\n",
       "<style scoped>\n",
       "    .dataframe tbody tr th:only-of-type {\n",
       "        vertical-align: middle;\n",
       "    }\n",
       "\n",
       "    .dataframe tbody tr th {\n",
       "        vertical-align: top;\n",
       "    }\n",
       "\n",
       "    .dataframe thead th {\n",
       "        text-align: right;\n",
       "    }\n",
       "</style>\n",
       "<table border=\"1\" class=\"dataframe\">\n",
       "  <thead>\n",
       "    <tr style=\"text-align: right;\">\n",
       "      <th></th>\n",
       "      <th>Annual Inflation Rate</th>\n",
       "      <th>Feds Fund Rate</th>\n",
       "    </tr>\n",
       "  </thead>\n",
       "  <tbody>\n",
       "    <tr>\n",
       "      <th>Annual Inflation Rate</th>\n",
       "      <td>1.000000</td>\n",
       "      <td>-0.572952</td>\n",
       "    </tr>\n",
       "    <tr>\n",
       "      <th>Feds Fund Rate</th>\n",
       "      <td>-0.572952</td>\n",
       "      <td>1.000000</td>\n",
       "    </tr>\n",
       "  </tbody>\n",
       "</table>\n",
       "</div>"
      ],
      "text/plain": [
       "                       Annual Inflation Rate  Feds Fund Rate\n",
       "Annual Inflation Rate               1.000000       -0.572952\n",
       "Feds Fund Rate                     -0.572952        1.000000"
      ]
     },
     "execution_count": 20,
     "metadata": {},
     "output_type": "execute_result"
    }
   ],
   "source": [
    "selected.corr()"
   ]
  },
  {
   "cell_type": "markdown",
   "id": "1cfb85f3",
   "metadata": {},
   "source": [
    "As we can see this is case of negative Correlation which we saw in the trend also. Annual inflation shows increasing trend whereas Fed fund rate shows almost in positive trend, however there is a declined trend."
   ]
  },
  {
   "cell_type": "markdown",
   "id": "a8ce5073",
   "metadata": {},
   "source": [
    "### Conclusion\n",
    "\n",
    "Correlation is a statistic that measures the degree to which two variables move in relation to each other.\n",
    "In finance, the correlation can measure the movement of a stock with that of a benchmark index, such as the S&P 500.\n",
    "Correlation is closely tied to diversification, the concept that certain types of risk can be mitigated by investing in assets that are not correlated.\n",
    "Correlation measures association, but doesn't show if x causes y or vice versa—or if the association is caused by a third factor.\n",
    "Correlation may be easiest to identify using a scatterplot, especially if the variables have a non-linear yet still strong correlation.\n"
   ]
  },
  {
   "cell_type": "markdown",
   "id": "06e57f69",
   "metadata": {},
   "source": [
    "##### References\n",
    "\n",
    "https://www.macrotrends.net/countries/USA/united-states/gdp-growth-rate\n",
    "\n",
    "https://fred.stlouisfed.org/series/FEDFUNDS \n",
    "\n",
    "https://www.usinflationcalculator.com/inflation/consumer-price-index-and-annual-percent-changes-from-1913-to-2008/ \n",
    "\n",
    "\n",
    "\n",
    "\n",
    "\n"
   ]
  }
 ],
 "metadata": {
  "kernelspec": {
   "display_name": "Python 3 (ipykernel)",
   "language": "python",
   "name": "python3"
  },
  "language_info": {
   "codemirror_mode": {
    "name": "ipython",
    "version": 3
   },
   "file_extension": ".py",
   "mimetype": "text/x-python",
   "name": "python",
   "nbconvert_exporter": "python",
   "pygments_lexer": "ipython3",
   "version": "3.9.13"
  }
 },
 "nbformat": 4,
 "nbformat_minor": 5
}
